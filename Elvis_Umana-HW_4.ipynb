{
 "cells": [
  {
   "cell_type": "code",
   "execution_count": 2,
   "metadata": {},
   "outputs": [],
   "source": [
    "import numpy as np\n",
    "import pandas as pd\n",
    "from sklearn.metrics import confusion_matrix\n",
    "import random"
   ]
  },
  {
   "cell_type": "code",
   "execution_count": 3,
   "metadata": {},
   "outputs": [],
   "source": [
    "X = ['']*60\n",
    "Y = ['']*60"
   ]
  },
  {
   "cell_type": "code",
   "execution_count": 4,
   "metadata": {},
   "outputs": [],
   "source": [
    "for i in range(0,20):\n",
    "    X[i] = open('/Users/elvis/Downloads/hw4-1/languageID/e' + str(i) + '.txt','r').read()\n",
    "    X[i+20] = open('/Users/elvis/Downloads/hw4-1/languageID/j' + str(i) + '.txt','r').read()\n",
    "    X[i+40] = open('/Users/elvis/Downloads/hw4-1/languageID/s' + str(i) + '.txt','r').read()\n",
    "    Y[i] = 'e'\n",
    "    Y[i+20] = 'j'\n",
    "    Y[i+40] = 's'"
   ]
  },
  {
   "attachments": {},
   "cell_type": "markdown",
   "metadata": {},
   "source": [
    "# Problem 2.1"
   ]
  },
  {
   "cell_type": "code",
   "execution_count": 5,
   "metadata": {},
   "outputs": [],
   "source": [
    "def Prior(lang_target, text, langs):\n",
    "    count = 0\n",
    "    for i in langs:\n",
    "        if i == lang_target:\n",
    "            count = count + 1\n",
    "    prior_calc = (count + 0.5)/(len(langs) + 3*0.5)\n",
    "    return(prior_calc)\n"
   ]
  },
  {
   "cell_type": "code",
   "execution_count": 6,
   "metadata": {},
   "outputs": [],
   "source": [
    "e_prior = Prior('e', X[:10] + X[20:30] + X[40:50], Y[:10] + Y[20:30] + Y[40:50])\n",
    "j_prior = Prior('j', X[:10] + X[20:30] + X[40:50], Y[:10] + Y[20:30] + Y[40:50])\n",
    "s_prior = Prior('s', X[:10] + X[20:30] + X[40:50], Y[:10] + Y[20:30] + Y[40:50])"
   ]
  },
  {
   "cell_type": "code",
   "execution_count": 7,
   "metadata": {},
   "outputs": [
    {
     "name": "stdout",
     "output_type": "stream",
     "text": [
      "P(Y = e) = 0.3333333333333333\n",
      "P(Y = j) = 0.3333333333333333\n",
      "P(Y = s) = 0.3333333333333333\n"
     ]
    }
   ],
   "source": [
    "print(\"P(Y = e) = \" + str(e_prior) + \"\\nP(Y = j) = \" + str(j_prior) + \"\\nP(Y = s) = \" + str(s_prior))"
   ]
  },
  {
   "attachments": {},
   "cell_type": "markdown",
   "metadata": {},
   "source": [
    "# Problem 2.2"
   ]
  },
  {
   "cell_type": "code",
   "execution_count": 13,
   "metadata": {},
   "outputs": [],
   "source": [
    "def Theta_vec(text, langs):\n",
    "    count = [0]*27\n",
    "    theta = [0.0]*27\n",
    "    theta_corrected = [0.0]*27\n",
    "    for i in text:\n",
    "        for j in i:\n",
    "            if j == 'a':\n",
    "                count[0] = count[0] + 1\n",
    "            if j == 'b':\n",
    "                count[1] = count[1] + 1\n",
    "            if j == 'c':\n",
    "                count[2] = count[2] + 1\n",
    "            if j == 'd':\n",
    "                count[3] = count[3] + 1\n",
    "            if j == 'e':\n",
    "                count[4] = count[4] + 1\n",
    "            if j == 'f':\n",
    "                count[5] = count[5] + 1\n",
    "            if j == 'g':\n",
    "                count[6] = count[6] + 1\n",
    "            if j == 'h':\n",
    "                count[7] = count[7] + 1\n",
    "            if j == 'i':\n",
    "                count[8] = count[8] + 1\n",
    "            if j == 'j':\n",
    "                count[9] = count[9] + 1\n",
    "            if j == 'k':\n",
    "                count[10] = count[10] + 1\n",
    "            if j == 'l':\n",
    "                count[11] = count[11] + 1\n",
    "            if j == 'm':\n",
    "                count[12] = count[12] + 1\n",
    "            if j == 'n':\n",
    "                count[13] = count[13] + 1\n",
    "            if j == 'o':\n",
    "                count[14] = count[14] + 1\n",
    "            if j == 'p':\n",
    "                count[15] = count[15] + 1\n",
    "            if j == 'q':\n",
    "                count[16] = count[16] + 1\n",
    "            if j == 'r':\n",
    "                count[17] = count[17] + 1\n",
    "            if j == 's':\n",
    "                count[18] = count[18] + 1\n",
    "            if j == 't':\n",
    "                count[19] = count[19] + 1\n",
    "            if j == 'u':\n",
    "                count[20] = count[20] + 1\n",
    "            if j == 'v':\n",
    "                count[21] = count[21] + 1\n",
    "            if j == 'w':\n",
    "                count[22] = count[22] + 1\n",
    "            if j == 'x':\n",
    "                count[23] = count[23] + 1\n",
    "            if j == 'y':\n",
    "                count[24] = count[24] + 1\n",
    "            if j == 'z':\n",
    "                count[25] = count[25] + 1\n",
    "            if j == ' ':\n",
    "                count[26] = count[26] + 1\n",
    "    for i in range(0,27):\n",
    "        theta[i] = count[i]/sum(count)\n",
    "        theta_corrected[i] = (count[i]+0.5)/(sum(count) + 27*0.5)\n",
    "    return(theta_corrected)"
   ]
  },
  {
   "cell_type": "code",
   "execution_count": 14,
   "metadata": {},
   "outputs": [
    {
     "name": "stdout",
     "output_type": "stream",
     "text": [
      "The multinomial parameter vector for English is:\n",
      "[0.06  0.011 0.022 0.022 0.105 0.019 0.017 0.047 0.055 0.001 0.004 0.029\n",
      " 0.021 0.058 0.064 0.017 0.001 0.054 0.066 0.08  0.027 0.009 0.015 0.001\n",
      " 0.014 0.001 0.179]\n"
     ]
    }
   ],
   "source": [
    "e_theta = Theta_vec(X[:10], Y[:10])\n",
    "print(\"The multinomial parameter vector for English is:\\n\" + str(np.round(e_theta, 3)))"
   ]
  },
  {
   "attachments": {},
   "cell_type": "markdown",
   "metadata": {},
   "source": [
    "# Problem 2.3"
   ]
  },
  {
   "cell_type": "code",
   "execution_count": 15,
   "metadata": {},
   "outputs": [
    {
     "name": "stdout",
     "output_type": "stream",
     "text": [
      "The multinomial parameter vector for Japanese is:\n",
      "[0.132 0.011 0.005 0.017 0.06  0.004 0.014 0.032 0.097 0.002 0.057 0.001\n",
      " 0.04  0.057 0.091 0.001 0.    0.043 0.042 0.057 0.071 0.    0.02  0.\n",
      " 0.014 0.008 0.123]\n"
     ]
    }
   ],
   "source": [
    "j_theta = Theta_vec(X[20:30], Y[:10])\n",
    "print(\"The multinomial parameter vector for Japanese is:\\n\" + str(np.round(j_theta, 3)))"
   ]
  },
  {
   "cell_type": "code",
   "execution_count": 16,
   "metadata": {},
   "outputs": [
    {
     "name": "stdout",
     "output_type": "stream",
     "text": [
      "The multinomial parameter vector for Spanish is:\n",
      "[0.105 0.008 0.038 0.04  0.114 0.009 0.007 0.005 0.05  0.007 0.    0.053\n",
      " 0.026 0.054 0.072 0.024 0.008 0.059 0.066 0.036 0.034 0.006 0.    0.002\n",
      " 0.008 0.003 0.168]\n"
     ]
    }
   ],
   "source": [
    "s_theta = Theta_vec(X[40:50], Y[:10])\n",
    "print(\"The multinomial parameter vector for Spanish is:\\n\" + str(np.round(s_theta, 3)))"
   ]
  },
  {
   "attachments": {},
   "cell_type": "markdown",
   "metadata": {},
   "source": [
    "# Problem 2.4"
   ]
  },
  {
   "cell_type": "code",
   "execution_count": 17,
   "metadata": {},
   "outputs": [],
   "source": [
    "def Count_vec(text, langs):\n",
    "    count = [0]*27\n",
    "    for i in text:\n",
    "        for j in i:\n",
    "            if j == 'a':\n",
    "                count[0] = count[0] + 1\n",
    "            if j == 'b':\n",
    "                count[1] = count[1] + 1\n",
    "            if j == 'c':\n",
    "                count[2] = count[2] + 1\n",
    "            if j == 'd':\n",
    "                count[3] = count[3] + 1\n",
    "            if j == 'e':\n",
    "                count[4] = count[4] + 1\n",
    "            if j == 'f':\n",
    "                count[5] = count[5] + 1\n",
    "            if j == 'g':\n",
    "                count[6] = count[6] + 1\n",
    "            if j == 'h':\n",
    "                count[7] = count[7] + 1\n",
    "            if j == 'i':\n",
    "                count[8] = count[8] + 1\n",
    "            if j == 'j':\n",
    "                count[9] = count[9] + 1\n",
    "            if j == 'k':\n",
    "                count[10] = count[10] + 1\n",
    "            if j == 'l':\n",
    "                count[11] = count[11] + 1\n",
    "            if j == 'm':\n",
    "                count[12] = count[12] + 1\n",
    "            if j == 'n':\n",
    "                count[13] = count[13] + 1\n",
    "            if j == 'o':\n",
    "                count[14] = count[14] + 1\n",
    "            if j == 'p':\n",
    "                count[15] = count[15] + 1\n",
    "            if j == 'q':\n",
    "                count[16] = count[16] + 1\n",
    "            if j == 'r':\n",
    "                count[17] = count[17] + 1\n",
    "            if j == 's':\n",
    "                count[18] = count[18] + 1\n",
    "            if j == 't':\n",
    "                count[19] = count[19] + 1\n",
    "            if j == 'u':\n",
    "                count[20] = count[20] + 1\n",
    "            if j == 'v':\n",
    "                count[21] = count[21] + 1\n",
    "            if j == 'w':\n",
    "                count[22] = count[22] + 1\n",
    "            if j == 'x':\n",
    "                count[23] = count[23] + 1\n",
    "            if j == 'y':\n",
    "                count[24] = count[24] + 1\n",
    "            if j == 'z':\n",
    "                count[25] = count[25] + 1\n",
    "            if j == ' ':\n",
    "                count[26] = count[26] + 1\n",
    "    return(count)"
   ]
  },
  {
   "cell_type": "code",
   "execution_count": 18,
   "metadata": {},
   "outputs": [
    {
     "name": "stdout",
     "output_type": "stream",
     "text": [
      "The bag-of-words vector count for e10.txt is:\n",
      "[199, 47, 70, 86, 352, 78, 47, 143, 170, 1, 15, 124, 59, 191, 236, 38, 3, 147, 194, 272, 86, 35, 57, 2, 43, 2, 618]\n"
     ]
    }
   ],
   "source": [
    "e_10_count_vec = Count_vec(X[11], Y[11])\n",
    "print(\"The bag-of-words vector count for e10.txt is:\\n\" + str(e_10_count_vec))"
   ]
  },
  {
   "attachments": {},
   "cell_type": "markdown",
   "metadata": {},
   "source": [
    "# Problem 2.5"
   ]
  },
  {
   "cell_type": "code",
   "execution_count": 19,
   "metadata": {},
   "outputs": [],
   "source": [
    "def prob_given_prior(word_bag):\n",
    "    summed = [0.0, 0.0, 0.0]\n",
    "    summed[0] = sum(np.nan_to_num(word_bag*np.log(e_theta),  posinf=np.inf, neginf=-np.inf))\n",
    "    summed[1] = sum(np.nan_to_num(word_bag*np.log(j_theta),  posinf=np.inf, neginf=-np.inf))\n",
    "    summed[2] = sum(np.nan_to_num(word_bag*np.log(s_theta),  posinf=np.inf, neginf=-np.inf))\n",
    "    return(summed)"
   ]
  },
  {
   "cell_type": "code",
   "execution_count": 20,
   "metadata": {},
   "outputs": [],
   "source": [
    "def prob_given_prior(word_bag):\n",
    "    summed = [0.0, 0.0, 0.0]\n",
    "    summed[0] = sum(np.nan_to_num(word_bag*np.log(e_theta),  posinf=0, neginf=0))\n",
    "    summed[1] = sum(np.nan_to_num(word_bag*np.log(j_theta),  posinf=0, neginf=0))\n",
    "    summed[2] = sum(np.nan_to_num(word_bag*np.log(s_theta),  posinf=0, neginf=0))\n",
    "    return(summed)"
   ]
  },
  {
   "cell_type": "code",
   "execution_count": 21,
   "metadata": {},
   "outputs": [],
   "source": [
    "e_10_prob = prob_given_prior(e_10_count_vec)"
   ]
  },
  {
   "cell_type": "code",
   "execution_count": 22,
   "metadata": {},
   "outputs": [
    {
     "name": "stdout",
     "output_type": "stream",
     "text": [
      "The log[p(x|y=e)] is: -9346.212\n",
      "The log[p(x|y=j)] is: -10407.284\n",
      "The log[p(x|y=s)] is: -10056.252\n"
     ]
    }
   ],
   "source": [
    "print(\"The log[p(x|y=e)] is: \" + str(np.round(e_10_prob[0], 3)) + \"\\nThe log[p(x|y=j)] is: \" + \n",
    "str(np.round(e_10_prob[1], 3)) + \"\\nThe log[p(x|y=s)] is: \" + \n",
    "str(np.round(e_10_prob[2], 3)))"
   ]
  },
  {
   "attachments": {},
   "cell_type": "markdown",
   "metadata": {},
   "source": [
    "# Problem 2.6"
   ]
  },
  {
   "cell_type": "code",
   "execution_count": 23,
   "metadata": {},
   "outputs": [],
   "source": [
    "def predict_lang(prob_dist):\n",
    "    lang_type = ' '\n",
    "    max_index = prob_dist.index(np.max(prob_dist))\n",
    "    if max_index == 0:\n",
    "        lang_type = 'e'\n",
    "    elif max_index == 1:\n",
    "        lang_type = 'j'\n",
    "    elif max_index == 2:\n",
    "        lang_type = 's'\n",
    "    return(lang_type)"
   ]
  },
  {
   "cell_type": "code",
   "execution_count": 24,
   "metadata": {},
   "outputs": [],
   "source": [
    "e_10_pred = predict_lang(e_10_prob)"
   ]
  },
  {
   "cell_type": "code",
   "execution_count": 34,
   "metadata": {},
   "outputs": [
    {
     "name": "stdout",
     "output_type": "stream",
     "text": [
      "The log[p(x|y=e)] is: -3115.404\n",
      "The log[p(x|y=j)] is: -3469.095\n",
      "The log[p(x|y=s)] is: -3352.084\n"
     ]
    }
   ],
   "source": [
    "print(\"The log[p(x|y=e)] is: \" + str(np.round(e_10_prob[0]/3, 3)) + \"\\nThe log[p(x|y=j)] is: \" + \n",
    "str(np.round(e_10_prob[1]/3, 3)) + \"\\nThe log[p(x|y=s)] is: \" + \n",
    "str(np.round(e_10_prob[2]/3, 3)))"
   ]
  },
  {
   "cell_type": "code",
   "execution_count": 25,
   "metadata": {},
   "outputs": [
    {
     "name": "stdout",
     "output_type": "stream",
     "text": [
      "e10.txt is classified as: e\n"
     ]
    }
   ],
   "source": [
    "print(\"e10.txt is classified as: \" + str(e_10_pred))"
   ]
  },
  {
   "attachments": {},
   "cell_type": "markdown",
   "metadata": {},
   "source": [
    "# Problem 2.7"
   ]
  },
  {
   "cell_type": "code",
   "execution_count": 26,
   "metadata": {},
   "outputs": [],
   "source": [
    "def predict_from_text(text, langs):\n",
    "    text_vec = Count_vec(text, langs)\n",
    "    text_prob = prob_given_prior(text_vec)\n",
    "    text_pred = predict_lang(text_prob)\n",
    "    return(text_pred)"
   ]
  },
  {
   "cell_type": "code",
   "execution_count": 27,
   "metadata": {},
   "outputs": [],
   "source": [
    "Y_pred = ['']*60\n",
    "for i in range(0,60):\n",
    "    Y_pred[i] = predict_from_text(X[i], Y[i])"
   ]
  },
  {
   "cell_type": "code",
   "execution_count": 29,
   "metadata": {},
   "outputs": [
    {
     "data": {
      "text/plain": [
       "array([[10,  0,  0],\n",
       "       [ 0, 10,  0],\n",
       "       [ 0,  0, 10]])"
      ]
     },
     "execution_count": 29,
     "metadata": {},
     "output_type": "execute_result"
    }
   ],
   "source": [
    "confusion_matrix(Y[10:20]+Y[30:40]+Y[50:60], Y_pred[10:20]+Y_pred[30:40]+Y_pred[50:60])"
   ]
  },
  {
   "attachments": {},
   "cell_type": "markdown",
   "metadata": {},
   "source": [
    "# Problem 2.8"
   ]
  },
  {
   "cell_type": "code",
   "execution_count": 30,
   "metadata": {},
   "outputs": [],
   "source": [
    "shuffled_e10 = ''.join(random.sample(X[10], len(X[10])))"
   ]
  },
  {
   "cell_type": "code",
   "execution_count": 31,
   "metadata": {},
   "outputs": [],
   "source": [
    "shuffled_e10_pred = predict_from_text(shuffled_e10, Y[10])"
   ]
  },
  {
   "cell_type": "code",
   "execution_count": 32,
   "metadata": {},
   "outputs": [
    {
     "name": "stdout",
     "output_type": "stream",
     "text": [
      "After shuffling e10.txt, the shuffled text was classified correctly as: e\n"
     ]
    }
   ],
   "source": [
    "print(\"After shuffling e10.txt, the shuffled text was classified correctly as: \" + shuffled_e10_pred)"
   ]
  },
  {
   "cell_type": "code",
   "execution_count": 33,
   "metadata": {},
   "outputs": [
    {
     "name": "stdout",
     "output_type": "stream",
     "text": [
      "Suffling does not change the classification as our model uses the distribution of letters to determine language, regardless of order.\n"
     ]
    }
   ],
   "source": [
    "print(\"Suffling does not change the classification as our model uses the distribution of letters to determine language, regardless of order.\")"
   ]
  },
  {
   "attachments": {},
   "cell_type": "markdown",
   "metadata": {},
   "source": [
    "# Problem 3.2"
   ]
  },
  {
   "cell_type": "code",
   "execution_count": 36,
   "metadata": {},
   "outputs": [],
   "source": [
    "import numpy as np \n",
    "import pandas as pd \n",
    "\n",
    "import torch\n",
    "import torchvision\n",
    "import torchvision.datasets as datasets\n",
    "from torchvision import transforms\n",
    "import torch.nn as nn\n",
    "import torch.nn.functional as F\n",
    "import matplotlib.pyplot as plt\n",
    "from torch.utils.data import random_split, DataLoader\n",
    "from torchvision.utils import make_grid"
   ]
  },
  {
   "cell_type": "code",
   "execution_count": 331,
   "metadata": {},
   "outputs": [],
   "source": [
    "mnist_trainset = datasets.MNIST(root='data', train=True, download=True, transform=transforms.ToTensor())\n",
    "mnist_testset = datasets.MNIST(root='data', train=False, download=True, transform=transforms.ToTensor())"
   ]
  },
  {
   "cell_type": "code",
   "execution_count": 442,
   "metadata": {},
   "outputs": [],
   "source": [
    "batch_size = 128\n",
    "train_loader = DataLoader(mnist_trainset, batch_size, shuffle=True, num_workers=4, pin_memory=True)\n",
    "\n",
    "alpha = 0.01"
   ]
  },
  {
   "cell_type": "code",
   "execution_count": 630,
   "metadata": {},
   "outputs": [],
   "source": [
    "for batch in train_loader:\n",
    "    imag, labl = batch"
   ]
  },
  {
   "cell_type": "code",
   "execution_count": 370,
   "metadata": {},
   "outputs": [],
   "source": [
    "w1 = np.matrix(np.zeros((784, 300), dtype = np.float64))\n",
    "w2 = np.matrix(np.zeros((300, 200), dtype = np.float64))\n",
    "w3 = np.matrix(np.zeros((200, 10), dtype = np.float64))"
   ]
  },
  {
   "cell_type": "code",
   "execution_count": 438,
   "metadata": {},
   "outputs": [
    {
     "data": {
      "text/plain": [
       "0"
      ]
     },
     "execution_count": 438,
     "metadata": {},
     "output_type": "execute_result"
    }
   ],
   "source": [
    "np.argmax(np.asarray(np.exp((sigmoid((sigmoid(((mnist_trainset[10000][0][0].reshape(-1,784).numpy())@w1)))@w2))@w3)).reshape(-1))"
   ]
  },
  {
   "cell_type": "code",
   "execution_count": 440,
   "metadata": {},
   "outputs": [],
   "source": [
    "imag, lable = mnist_trainset[10]"
   ]
  },
  {
   "cell_type": "code",
   "execution_count": 441,
   "metadata": {},
   "outputs": [
    {
     "data": {
      "text/plain": [
       "torch.Size([1, 28, 28])"
      ]
     },
     "execution_count": 441,
     "metadata": {},
     "output_type": "execute_result"
    }
   ],
   "source": [
    "imag.shape"
   ]
  },
  {
   "cell_type": "code",
   "execution_count": 372,
   "metadata": {},
   "outputs": [],
   "source": [
    "def sigmoid(z):\n",
    "    sigma = 1/(1+np.exp(z))\n",
    "    return(sigma)"
   ]
  },
  {
   "cell_type": "code",
   "execution_count": 431,
   "metadata": {},
   "outputs": [],
   "source": [
    "def mynn_probs(train_in):\n",
    "    probs_out = np.asarray(np.exp((sigmoid((sigmoid(((train_in.reshape(-1,784).numpy())@w1)))@w2))@w3)).reshape(-1)\n",
    "    return(probs_out)\n"
   ]
  },
  {
   "cell_type": "code",
   "execution_count": 476,
   "metadata": {},
   "outputs": [],
   "source": [
    "def training(train_in_1, label_1):\n",
    "    z1 = (train_in_1.reshape(-1,784).numpy())@w1\n",
    "    z2 = (sigmoid(((train_in_1.reshape(-1,784).numpy())@w1)))@w2\n",
    "    z3 = sigmoid((sigmoid(((train_in_1.reshape(-1,784).numpy())@w1)))@w2)@w3\n",
    "    y_hat = np.argmax(mynn_probs(train_in_1))\n",
    "    dL_dz3 = np.array(y_hat - label_1)\n",
    "    dL_dw3 = dL_dz3*(sigmoid(z2))\n",
    "    print(z1.shape, (1-sigmoid(z2)).shape, z3.shape)\n",
    "    dL_dw2 = (sigmoid(z1).T@(1-sigmoid(z2))).T@z3*dL_dz3\n",
    "    dL_dw1 = (train_in_1.reshape(-1,784).numpy())@(1-sigmoid(z1))@z2@(1-sigmoid(z2))@z3*dL_dz3\n",
    "    w3_n = w3 - alpha*dL_dw3\n",
    "    w2_n = w2 - alpha*dL_dw2\n",
    "    w1_n = w1 - alpha*dL_dw1\n",
    "    return(y_hat, w3_n, w2_n, w1_n)"
   ]
  },
  {
   "cell_type": "code",
   "execution_count": 477,
   "metadata": {},
   "outputs": [
    {
     "name": "stdout",
     "output_type": "stream",
     "text": [
      "(1, 300) (1, 200) (1, 10)\n"
     ]
    },
    {
     "ename": "ValueError",
     "evalue": "matmul: Input operand 1 has a mismatch in its core dimension 0, with gufunc signature (n?,k),(k,m?)->(n?,m?) (size 1 is different from 300)",
     "output_type": "error",
     "traceback": [
      "\u001b[0;31m---------------------------------------------------------------------------\u001b[0m",
      "\u001b[0;31mValueError\u001b[0m                                Traceback (most recent call last)",
      "\u001b[0;32m/var/folders/n0/8fxhskld1wsc76dqzmh0f_9w0000gn/T/ipykernel_35298/1499064882.py\u001b[0m in \u001b[0;36m<module>\u001b[0;34m\u001b[0m\n\u001b[0;32m----> 1\u001b[0;31m \u001b[0mtraining\u001b[0m\u001b[0;34m(\u001b[0m\u001b[0mmnist_trainset\u001b[0m\u001b[0;34m[\u001b[0m\u001b[0;36m10000\u001b[0m\u001b[0;34m]\u001b[0m\u001b[0;34m[\u001b[0m\u001b[0;36m0\u001b[0m\u001b[0;34m]\u001b[0m\u001b[0;34m[\u001b[0m\u001b[0;36m0\u001b[0m\u001b[0;34m]\u001b[0m\u001b[0;34m,\u001b[0m \u001b[0;36m4\u001b[0m\u001b[0;34m)\u001b[0m\u001b[0;34m\u001b[0m\u001b[0;34m\u001b[0m\u001b[0m\n\u001b[0m",
      "\u001b[0;32m/var/folders/n0/8fxhskld1wsc76dqzmh0f_9w0000gn/T/ipykernel_35298/558607276.py\u001b[0m in \u001b[0;36mtraining\u001b[0;34m(train_in_1, label_1)\u001b[0m\n\u001b[1;32m      7\u001b[0m     \u001b[0mdL_dw3\u001b[0m \u001b[0;34m=\u001b[0m \u001b[0mdL_dz3\u001b[0m\u001b[0;34m*\u001b[0m\u001b[0;34m(\u001b[0m\u001b[0msigmoid\u001b[0m\u001b[0;34m(\u001b[0m\u001b[0mz2\u001b[0m\u001b[0;34m)\u001b[0m\u001b[0;34m)\u001b[0m\u001b[0;34m\u001b[0m\u001b[0;34m\u001b[0m\u001b[0m\n\u001b[1;32m      8\u001b[0m     \u001b[0mprint\u001b[0m\u001b[0;34m(\u001b[0m\u001b[0mz1\u001b[0m\u001b[0;34m.\u001b[0m\u001b[0mshape\u001b[0m\u001b[0;34m,\u001b[0m \u001b[0;34m(\u001b[0m\u001b[0;36m1\u001b[0m\u001b[0;34m-\u001b[0m\u001b[0msigmoid\u001b[0m\u001b[0;34m(\u001b[0m\u001b[0mz2\u001b[0m\u001b[0;34m)\u001b[0m\u001b[0;34m)\u001b[0m\u001b[0;34m.\u001b[0m\u001b[0mshape\u001b[0m\u001b[0;34m,\u001b[0m \u001b[0mz3\u001b[0m\u001b[0;34m.\u001b[0m\u001b[0mshape\u001b[0m\u001b[0;34m)\u001b[0m\u001b[0;34m\u001b[0m\u001b[0;34m\u001b[0m\u001b[0m\n\u001b[0;32m----> 9\u001b[0;31m     \u001b[0mdL_dw2\u001b[0m \u001b[0;34m=\u001b[0m \u001b[0;34m(\u001b[0m\u001b[0msigmoid\u001b[0m\u001b[0;34m(\u001b[0m\u001b[0mz1\u001b[0m\u001b[0;34m)\u001b[0m\u001b[0;34m.\u001b[0m\u001b[0mT\u001b[0m\u001b[0;34m@\u001b[0m\u001b[0;34m(\u001b[0m\u001b[0;36m1\u001b[0m\u001b[0;34m-\u001b[0m\u001b[0msigmoid\u001b[0m\u001b[0;34m(\u001b[0m\u001b[0mz2\u001b[0m\u001b[0;34m)\u001b[0m\u001b[0;34m)\u001b[0m\u001b[0;34m)\u001b[0m\u001b[0;34m.\u001b[0m\u001b[0mT\u001b[0m\u001b[0;34m@\u001b[0m\u001b[0mz3\u001b[0m\u001b[0;34m*\u001b[0m\u001b[0mdL_dz3\u001b[0m\u001b[0;34m\u001b[0m\u001b[0;34m\u001b[0m\u001b[0m\n\u001b[0m\u001b[1;32m     10\u001b[0m     \u001b[0mdL_dw1\u001b[0m \u001b[0;34m=\u001b[0m \u001b[0;34m(\u001b[0m\u001b[0mtrain_in_1\u001b[0m\u001b[0;34m.\u001b[0m\u001b[0mreshape\u001b[0m\u001b[0;34m(\u001b[0m\u001b[0;34m-\u001b[0m\u001b[0;36m1\u001b[0m\u001b[0;34m,\u001b[0m\u001b[0;36m784\u001b[0m\u001b[0;34m)\u001b[0m\u001b[0;34m.\u001b[0m\u001b[0mnumpy\u001b[0m\u001b[0;34m(\u001b[0m\u001b[0;34m)\u001b[0m\u001b[0;34m)\u001b[0m\u001b[0;34m@\u001b[0m\u001b[0;34m(\u001b[0m\u001b[0;36m1\u001b[0m\u001b[0;34m-\u001b[0m\u001b[0msigmoid\u001b[0m\u001b[0;34m(\u001b[0m\u001b[0mz1\u001b[0m\u001b[0;34m)\u001b[0m\u001b[0;34m)\u001b[0m\u001b[0;34m@\u001b[0m\u001b[0mz2\u001b[0m\u001b[0;34m@\u001b[0m\u001b[0;34m(\u001b[0m\u001b[0;36m1\u001b[0m\u001b[0;34m-\u001b[0m\u001b[0msigmoid\u001b[0m\u001b[0;34m(\u001b[0m\u001b[0mz2\u001b[0m\u001b[0;34m)\u001b[0m\u001b[0;34m)\u001b[0m\u001b[0;34m@\u001b[0m\u001b[0mz3\u001b[0m\u001b[0;34m*\u001b[0m\u001b[0mdL_dz3\u001b[0m\u001b[0;34m\u001b[0m\u001b[0;34m\u001b[0m\u001b[0m\n\u001b[1;32m     11\u001b[0m     \u001b[0mw3_n\u001b[0m \u001b[0;34m=\u001b[0m \u001b[0mw3\u001b[0m \u001b[0;34m-\u001b[0m \u001b[0malpha\u001b[0m\u001b[0;34m*\u001b[0m\u001b[0mdL_dw3\u001b[0m\u001b[0;34m\u001b[0m\u001b[0;34m\u001b[0m\u001b[0m\n",
      "\u001b[0;31mValueError\u001b[0m: matmul: Input operand 1 has a mismatch in its core dimension 0, with gufunc signature (n?,k),(k,m?)->(n?,m?) (size 1 is different from 300)"
     ]
    }
   ],
   "source": [
    "training(mnist_trainset[10000][0][0], 4)"
   ]
  },
  {
   "cell_type": "code",
   "execution_count": 465,
   "metadata": {},
   "outputs": [
    {
     "data": {
      "text/plain": [
       "array([1., 1., 1., 1., 1., 1., 1., 1., 1., 1.])"
      ]
     },
     "execution_count": 465,
     "metadata": {},
     "output_type": "execute_result"
    }
   ],
   "source": [
    "mynn_probs(mnist_trainset[10000][0][0])"
   ]
  },
  {
   "attachments": {},
   "cell_type": "markdown",
   "metadata": {},
   "source": [
    "# Problem 3.3"
   ]
  },
  {
   "cell_type": "code",
   "execution_count": 478,
   "metadata": {},
   "outputs": [],
   "source": [
    "import numpy as np \n",
    "import pandas as pd \n",
    "\n",
    "import torch\n",
    "import torchvision\n",
    "import torchvision.datasets as datasets\n",
    "from torchvision import transforms\n",
    "import torch.nn as nn\n",
    "import torch.nn.functional as F\n",
    "import matplotlib.pyplot as plt\n",
    "from torch.utils.data import random_split, DataLoader\n",
    "from torchvision.utils import make_grid"
   ]
  },
  {
   "cell_type": "code",
   "execution_count": 479,
   "metadata": {},
   "outputs": [],
   "source": [
    "mnist_trainset = datasets.MNIST(root='data', train=True, download=True, transform=transforms.ToTensor())\n",
    "mnist_testset = datasets.MNIST(root='data', train=False, download=True, transform=transforms.ToTensor())"
   ]
  },
  {
   "cell_type": "code",
   "execution_count": 480,
   "metadata": {},
   "outputs": [],
   "source": [
    "input_size = 784\n",
    "hidden_size1 = 300\n",
    "hidden_size2 = 200\n",
    "num_classes = 10"
   ]
  },
  {
   "cell_type": "code",
   "execution_count": 483,
   "metadata": {},
   "outputs": [],
   "source": [
    "class mynnmodel(nn.Module):\n",
    "       def __init__(self, input_size, hidden_size1, hidden_size2, num_classes):\n",
    "        super().__init__()\n",
    "        # hidden layer 1\n",
    "        self.linear1 = nn.Linear(input_size, hidden_size1)\n",
    "        # hidden layer 2\n",
    "        self.linear2 = nn.Linear(hidden_size1, hidden_size2)\n",
    "        # output layer\n",
    "        self.linear_output = nn.Linear(hidden_size2, num_classes)\n",
    "\n",
    "        def forward(self, xb):\n",
    "            xb = xb.reshape(-1, 784) # -1 so that it will work for different batch sizes\n",
    "            # Get intermediate outputs using hidden layer\n",
    "            out = self.linear1(xb)\n",
    "            # Apply activation function\n",
    "            out = F.sigmoid(out)\n",
    "            # Get predictions using output layer\n",
    "            out = self.linear2(out)\n",
    "\n",
    "            out = F.sigmoid(out)\n",
    "\n",
    "            out = self.linear_output(out)\n",
    "            return out"
   ]
  },
  {
   "cell_type": "code",
   "execution_count": 603,
   "metadata": {},
   "outputs": [],
   "source": [
    "train, validation = random_split(mnist_trainset, [59000, 1000])"
   ]
  },
  {
   "cell_type": "code",
   "execution_count": 604,
   "metadata": {},
   "outputs": [],
   "source": [
    "batch_size = 128\n",
    "\n",
    "# shuffle so that batches in each epoch are different, and this randomization helps generalize and speed up training\n",
    "train_loader = DataLoader(train, batch_size, shuffle=True, num_workers=4, pin_memory=True)\n",
    "# val is only used for evaluating the model, so no need to shuffle\n",
    "val_loader = DataLoader(validation, batch_size*2, num_workers=4, pin_memory=True)"
   ]
  },
  {
   "cell_type": "code",
   "execution_count": 605,
   "metadata": {},
   "outputs": [],
   "source": [
    "input_size = 28*28 # 784 weights to train, 1 for each pixel\n",
    "hidden_size1 = 300\n",
    "hidden_size2 = 200\n",
    "num_classes = 10 # 10 outputs, 10 biases"
   ]
  },
  {
   "cell_type": "code",
   "execution_count": 606,
   "metadata": {},
   "outputs": [],
   "source": [
    "def accuracy(outputs, labels):\n",
    "    _, preds = torch.max(outputs, dim=1) # probs shape is (128, 10), apply max to 10 class dim; max returns largest element and index of it\n",
    "    return torch.tensor(torch.sum(preds == labels).item() / len(preds)), preds"
   ]
  },
  {
   "cell_type": "code",
   "execution_count": 607,
   "metadata": {},
   "outputs": [],
   "source": [
    "class Mnistnnmodel(nn.Module):\n",
    "    def __init__(self, input_size, hidden_size1, hidden_size2, num_classes):\n",
    "        super().__init__()\n",
    "        # hidden layer 1\n",
    "        self.linear1 = nn.Linear(input_size, hidden_size1)\n",
    "        # hidden layer 2\n",
    "        self.linear2 = nn.Linear(hidden_size1, hidden_size2)\n",
    "        # output layer\n",
    "        self.linear_output = nn.Linear(hidden_size2, num_classes)\n",
    "\n",
    "    def forward(self, xb):\n",
    "        xb = xb.reshape(-1, 784) # -1 so that it will work for different batch sizes\n",
    "        # Get intermediate outputs using hidden layer\n",
    "        out = self.linear1(xb)\n",
    "        # Apply activation function\n",
    "        out = F.sigmoid(out)\n",
    "        # Get predictions using output layer\n",
    "        out = self.linear2(out)\n",
    "\n",
    "        out = F.sigmoid(out)\n",
    "\n",
    "        out = self.linear_output(out)\n",
    "        return out\n",
    "    \n",
    "    def training_step(self, batch):\n",
    "        images,labels = batch\n",
    "        out = self(images)                            # generate predictions\n",
    "        loss = F.cross_entropy(out, labels)           # compute loss\n",
    "        acc,preds = accuracy(out, labels)             # calculate accuracy\n",
    "        return {'train_loss': loss, 'train_acc':acc}\n",
    "    \n",
    "    def train_epoch_end(self, outputs):\n",
    "        batch_losses = [x['train_loss'] for x in outputs]   # get all the batches loss\n",
    "        epoch_loss = torch.stack(batch_losses).mean()       # combine losses\n",
    "        batch_accs = [x['train_acc'] for x in outputs]      # get all the batches acc\n",
    "        epoch_acc = torch.stack(batch_accs).mean()          # combine accuracies\n",
    "        return {'train_loss': epoch_loss.item(), 'train_acc': epoch_acc.item()}\n",
    "    \n",
    "    def validation_step(self, batch):\n",
    "        images,labels = batch\n",
    "        out = self(images)                       # generate predictions\n",
    "        loss = F.cross_entropy(out, labels)      # compute loss\n",
    "        acc,preds = accuracy(out, labels)        # calculate accuracy and get predictions\n",
    "        return {'val_loss': loss.detach(), 'val_acc':acc, 'preds':preds, 'labels':labels} # detach extracts only the needed number, or other numbers will crowd memory\n",
    "    \n",
    "    def validation_epoch_end(self, outputs):\n",
    "        batch_losses = [x['val_loss'] for x in outputs]     # get all the batches loss\n",
    "        epoch_loss = torch.stack(batch_losses).mean()       # combine losses\n",
    "        batch_accs = [x['val_acc'] for x in outputs]        # get all the batches acc\n",
    "        epoch_acc = torch.stack(batch_accs).mean()          # combine accuracies\n",
    "        return {'val_loss': epoch_loss.item(), 'val_acc': epoch_acc.item()}\n",
    "\n",
    "    # this is for printing out the results after each epoch\n",
    "    def epoch_end(self, epoch, train_result, val_result):\n",
    "        print('Epoch [{}], train_loss: {:.4f}, train_acc: {:.4f}, val_loss: {:.4f}, val_acc: {:.4f}'.format(epoch+1, train_result['train_loss'], train_result['train_acc'], val_result['val_loss'], val_result['val_acc']))\n",
    "\n",
    "    def test_prediction(self, outputs):\n",
    "        batch_losses = [x['val_loss'] for x in outputs]\n",
    "        epoch_loss = torch.stack(batch_losses).mean()                           # combine losses\n",
    "        batch_accs = [x['val_acc'] for x in outputs]\n",
    "        epoch_acc = torch.stack(batch_accs).mean()                              # combine accuracies\n",
    "        batch_preds = [pred for x in outputs for pred in x['preds'].tolist()]   # combine predictions\n",
    "        batch_labels = [lab for x in outputs for lab in x['labels'].tolist()]   # combine labels\n",
    "        return {'test_loss': epoch_loss.item(), 'test_acc': epoch_acc.item(), 'test_preds': batch_preds, 'test_labels': batch_labels}  "
   ]
  },
  {
   "cell_type": "code",
   "execution_count": 608,
   "metadata": {},
   "outputs": [],
   "source": [
    "def fit(model, train_loader, val_loader, epochs, lr, opt_func=torch.optim.SGD):\n",
    "    history = {}\n",
    "    optimizer = opt_func(model.parameters(), lr)\n",
    "    for epoch in range(epochs):\n",
    "        \n",
    "        # Training phase\n",
    "        train_outputs = []\n",
    "        for batch in train_loader:\n",
    "            outputs = model.training_step(batch)              # compute loss and accuracy\n",
    "            loss = outputs['train_loss']                      # get loss\n",
    "            train_outputs.append(outputs)\n",
    "            loss.backward()                                   # compute gradients\n",
    "            optimizer.step()                                  # update weights \n",
    "            optimizer.zero_grad()                             # reset gradients to zero\n",
    "        train_results = model.train_epoch_end(train_outputs)  # get the train average loss and acc for each epoch\n",
    "            \n",
    "        # Validation phase\n",
    "        val_results = evaluate(model, val_loader)\n",
    "        \n",
    "        # print results\n",
    "        model.epoch_end(epoch, train_results, val_results)\n",
    "                \n",
    "        # save results to dictionary\n",
    "        to_add = {'train_loss': train_results['train_loss'], 'train_acc': train_results['train_acc'],\n",
    "                 'val_loss': val_results['val_loss'], 'val_acc': val_results['val_acc']}\n",
    "        for key,val in to_add.items():\n",
    "            if key in history:\n",
    "                history[key].append(val)\n",
    "            else:\n",
    "                history[key] = [val]\n",
    "                \n",
    "    return history"
   ]
  },
  {
   "cell_type": "code",
   "execution_count": 609,
   "metadata": {},
   "outputs": [
    {
     "data": {
      "text/plain": [
       "device(type='cpu')"
      ]
     },
     "execution_count": 609,
     "metadata": {},
     "output_type": "execute_result"
    }
   ],
   "source": [
    "def get_default_device():\n",
    "    \"\"\"Pick GPU if available, else CPU\"\"\"\n",
    "    if torch.cuda.is_available():\n",
    "        return torch.device('cuda')\n",
    "    else:\n",
    "        return torch.device('cpu')\n",
    "    \n",
    "device = get_default_device()\n",
    "device"
   ]
  },
  {
   "cell_type": "code",
   "execution_count": 610,
   "metadata": {},
   "outputs": [],
   "source": [
    "def to_device(data, device):\n",
    "    \"\"\"Move tensor(s) to chosen device\"\"\"\n",
    "    if isinstance(data, (list,tuple)):\n",
    "        return [to_device(x, device) for x in data]\n",
    "    return data.to(device, non_blocking=True)"
   ]
  },
  {
   "cell_type": "code",
   "execution_count": 611,
   "metadata": {},
   "outputs": [
    {
     "name": "stdout",
     "output_type": "stream",
     "text": [
      "torch.Size([128, 1, 28, 28])\n",
      "cpu\n"
     ]
    }
   ],
   "source": [
    "for images, labels in train_loader:\n",
    "    print(images.shape)\n",
    "    images = to_device(images, device)\n",
    "    print(images.device)\n",
    "    break"
   ]
  },
  {
   "cell_type": "code",
   "execution_count": 612,
   "metadata": {},
   "outputs": [],
   "source": [
    "class DeviceDataLoader():\n",
    "    \"\"\"Wrap a dataloader to move data to a device\"\"\"\n",
    "    def __init__(self, dl, device):\n",
    "        self.dl = dl\n",
    "        self.device = device\n",
    "        \n",
    "    def __iter__(self):\n",
    "        \"\"\"Yield a batch of data after moving it to device\"\"\"\n",
    "        for b in self.dl: \n",
    "            yield to_device(b, self.device) # yield will stop here, perform other steps, and the resumes to the next loop/batch\n",
    "\n",
    "    def __len__(self):\n",
    "        \"\"\"Number of batches\"\"\"\n",
    "        return len(self.dl)"
   ]
  },
  {
   "cell_type": "code",
   "execution_count": 613,
   "metadata": {},
   "outputs": [],
   "source": [
    "train_loader = DeviceDataLoader(train_loader, device)\n",
    "val_loader = DeviceDataLoader(val_loader, device)"
   ]
  },
  {
   "cell_type": "code",
   "execution_count": 614,
   "metadata": {},
   "outputs": [
    {
     "data": {
      "text/plain": [
       "Mnistnnmodel(\n",
       "  (linear1): Linear(in_features=784, out_features=300, bias=True)\n",
       "  (linear2): Linear(in_features=300, out_features=200, bias=True)\n",
       "  (linear_output): Linear(in_features=200, out_features=10, bias=True)\n",
       ")"
      ]
     },
     "execution_count": 614,
     "metadata": {},
     "output_type": "execute_result"
    }
   ],
   "source": [
    "# Hyperparameters\n",
    "input_size = 784 #784\n",
    "hidden_size = 128\n",
    "lr = 0.1\n",
    "num_epochs = 10\n",
    "\n",
    "modelNN = Mnistnnmodel(input_size, hidden_size1, hidden_size2, num_classes=10)  \n",
    "to_device(modelNN, device) # move model parameters to the same device"
   ]
  },
  {
   "cell_type": "code",
   "execution_count": 615,
   "metadata": {},
   "outputs": [],
   "source": [
    "def evaluate(model, val_loader):\n",
    "    outputs = [model.validation_step(batch) for batch in val_loader] # perform val for each batch\n",
    "    return model.validation_epoch_end(outputs) "
   ]
  },
  {
   "cell_type": "code",
   "execution_count": 616,
   "metadata": {},
   "outputs": [
    {
     "name": "stdout",
     "output_type": "stream",
     "text": [
      "Epoch [1], train_loss: 2.2760, train_acc: 0.1560, val_loss: 2.1665, val_acc: 0.2992\n",
      "Epoch [2], train_loss: 1.5723, train_acc: 0.5081, val_loss: 1.0347, val_acc: 0.6767\n",
      "Epoch [3], train_loss: 0.8024, train_acc: 0.7564, val_loss: 0.6739, val_acc: 0.7995\n",
      "Epoch [4], train_loss: 0.5672, train_acc: 0.8357, val_loss: 0.5325, val_acc: 0.8471\n",
      "Epoch [5], train_loss: 0.4617, train_acc: 0.8678, val_loss: 0.4653, val_acc: 0.8628\n",
      "Epoch [6], train_loss: 0.4082, train_acc: 0.8839, val_loss: 0.4241, val_acc: 0.8771\n",
      "Epoch [7], train_loss: 0.3772, train_acc: 0.8925, val_loss: 0.4130, val_acc: 0.8747\n",
      "Epoch [8], train_loss: 0.3566, train_acc: 0.8978, val_loss: 0.4024, val_acc: 0.8786\n",
      "Epoch [9], train_loss: 0.3411, train_acc: 0.9020, val_loss: 0.3769, val_acc: 0.8947\n",
      "Epoch [10], train_loss: 0.3278, train_acc: 0.9065, val_loss: 0.3699, val_acc: 0.8954\n"
     ]
    }
   ],
   "source": [
    "history = fit(modelNN, train_loader, val_loader, num_epochs, lr)"
   ]
  },
  {
   "cell_type": "code",
   "execution_count": 618,
   "metadata": {},
   "outputs": [],
   "source": [
    "def test_predict(model, test_loader):\n",
    "    outputs = [model.validation_step(batch) for batch in test_loader] # perform testing for each batch\n",
    "    results = model.test_prediction(outputs)                          # get the results\n",
    "    print('test_loss: {:.4f}, test_acc: {:.4f}'.format(results['test_loss'], results['test_acc']))\n",
    "    return results['test_preds'], results['test_labels']"
   ]
  },
  {
   "cell_type": "code",
   "execution_count": 619,
   "metadata": {},
   "outputs": [
    {
     "name": "stdout",
     "output_type": "stream",
     "text": [
      "test_loss: 0.3104, test_acc: 0.9095\n"
     ]
    }
   ],
   "source": [
    "test_loader = DataLoader(mnist_testset, batch_size=256)\n",
    "preds,labels = test_predict(modelNN, test_loader)"
   ]
  },
  {
   "attachments": {},
   "cell_type": "markdown",
   "metadata": {},
   "source": [
    "# Keeping track as I change train size\n",
    "\n",
    "Train 59,000: train--0.9065, test--0.9095\n",
    "Train 50,000: train--0.9005, test--0.9059\n",
    "Train 30,000: train--0.8626, test--0.8782\n",
    "Train 10,000: train--0.5979, test--0.5416\n",
    "Train 5,000: train--0.2121, test--0.0965\n",
    "Train 1,000: train--0.1090, test--0.1037\n",
    "Train 100: train--0.1500, test--0.1019"
   ]
  },
  {
   "cell_type": "code",
   "execution_count": 41,
   "metadata": {},
   "outputs": [
    {
     "data": {
      "image/png": "[encoded data removed]",
      "text/plain": [
       "<Figure size 540x432 with 1 Axes>"
      ]
     },
     "metadata": {},
     "output_type": "display_data"
    }
   ],
   "source": [
    "fig,ax=plt.subplots(1,figsize=(7.5,6), facecolor='white')\n",
    "ax.grid(color='gray',axis='both',alpha=0.2)\n",
    "ax.tick_params(left=True, bottom=True, labelleft = True, labelbottom=True, labelsize=14)\n",
    "\n",
    "ax.set_xlabel('Training Samples', fontsize=18)\n",
    "ax.set_ylabel('Accuracy', fontsize=18)\n",
    "ax.set_xlim(0,60000)\n",
    "ax.set_ylim(0,1)\n",
    "\n",
    "plt.plot([100, 1000, 5000, 10000, 30000, 50000, 59000], [0.15, 0.109, 0.2121, 0.5979, 0.8626, 0.9005, 0.9065], label = \"Train\", color = \"blue\")\n",
    "plt.plot([100, 1000, 5000, 10000, 30000, 50000, 59000], [0.1019, 0.1037, 0.0965, 0.5416, 0.8782, 0.9059, 0.9095], label = \"Test\", color = \"red\")\n",
    "\n",
    "plt.legend(fontsize=14)\n",
    "\n",
    "plt.savefig(\"/Users/elvis/Documents/Graduate/Courses/CS760/HW4/Problem 3.3.png\", dpi=300, bbox_inches='tight')"
   ]
  },
  {
   "cell_type": "code",
   "execution_count": null,
   "metadata": {},
   "outputs": [],
   "source": []
  }
 ],
 "metadata": {
  "kernelspec": {
   "display_name": "rdkit-env",
   "language": "python",
   "name": "python3"
  },
  "language_info": {
   "codemirror_mode": {
    "name": "ipython",
    "version": 3
   },
   "file_extension": ".py",
   "mimetype": "text/x-python",
   "name": "python",
   "nbconvert_exporter": "python",
   "pygments_lexer": "ipython3",
   "version": "3.9.7"
  },
  "orig_nbformat": 4,
  "vscode": {
   "interpreter": {
    "hash": "e643d4fd3ec1db81d393551f271cf70d6b70a41f0b198b244df41a746c6c6fef"
   }
  }
 },
 "nbformat": 4,
 "nbformat_minor": 2
}
